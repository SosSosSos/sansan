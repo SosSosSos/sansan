{
 "cells": [
  {
   "cell_type": "markdown",
   "metadata": {},
   "source": [
    "# SQLServerからダウンロードしたCSＶファイル（売上、マスター情報）をDBに登録する。"
   ]
  },
  {
   "cell_type": "code",
   "execution_count": null,
   "metadata": {},
   "outputs": [],
   "source": [
    "# !pip install pyodbc\n",
    "# !pip install sqlalchemy==1.4.46\n",
    "# !pip install pandas"
   ]
  },
  {
   "cell_type": "code",
   "execution_count": 3,
   "metadata": {},
   "outputs": [],
   "source": [
    "import pandas as pd\n",
    "from sqlalchemy import create_engine"
   ]
  },
  {
   "cell_type": "code",
   "execution_count": 4,
   "metadata": {},
   "outputs": [],
   "source": [
    "from sqlalchemy import create_engine\n",
    "from sqlalchemy.sql import text\n",
    "\n",
    "# SQL Serverへの接続設定\n",
    "server = 'SO-PC'\n",
    "database = 'datamart'\n",
    "username = 'gpkadmin'\n",
    "password = '19vK8xEQ'\n",
    "connection_string = f'mssql+pyodbc://{username}:{password}@{server}/{database}?driver=SQL+Server'\n",
    "\n",
    "# SQLAlchemyエンジンを作成\n",
    "engine = create_engine(connection_string)"
   ]
  },
  {
   "cell_type": "markdown",
   "metadata": {},
   "source": [
    "# 売上"
   ]
  },
  {
   "cell_type": "code",
   "execution_count": 136,
   "metadata": {},
   "outputs": [],
   "source": [
    "dtype = {\n",
    "    'LBC': 'Int64',\n",
    "    '本社LBC': 'Int64',\n",
    "    '本社LBC': 'Int64',\n",
    "    '親会社LBC': 'Int64',\n",
    "    '系列トップLBC1': 'Int64',\n",
    "    '合併先ＬＢＣ': 'Int64',\n",
    "    'グレード': 'Int64',\n",
    "    '郵便番号': 'Int64',\n",
    "    '県コード': 'Int64',\n",
    "    '市区町村コード': 'Int64',\n",
    "    '事業所数': 'Int64',\n",
    "    '設立年(月)': 'Int64',\n",
    "    '資本金': 'Int64',\n",
    "    '当期決算年月': 'Int64',\n",
    "    '当期売上高': 'Int64',\n",
    "    '前期売上高': 'Int64',\n",
    "    '前々期売上高': 'Int64',\n",
    "    '業種コード1': 'Int64',\n",
    "    '業種コード2': 'Int64',\n",
    "    '業種コード3': 'Int64',\n",
    "    '電話番号コールチェックフラグ': 'Int64',\n",
    "    '電話番号コールチェック年月日': 'Int64',\n",
    "    'ＦＡＸ番号コールチェックフラグ': 'Int64',\n",
    "    '調査日': 'Int64',\n",
    "    '従業員数詳細レンジコード': 'Int64',\n",
    "    '売上高詳細レンジコード': 'Int64',\n",
    "    '法人マイナンバー': 'Int64',\n",
    "    '業種中分類コード1': 'Int64',\n",
    "    '業種小分類コード1': 'Int64',\n",
    "    '業種中分類コード2': 'Int64',\n",
    "    '業種小分類コード2': 'Int64',\n",
    "    '業種中分類コード3': 'Int64',\n",
    "    '業種小分類コード3': 'Int64',\n",
    "    'LBCマッチ区分': 'Int64',\n",
    "}\n"
   ]
  },
  {
   "cell_type": "code",
   "execution_count": 137,
   "metadata": {},
   "outputs": [
    {
     "name": "stderr",
     "output_type": "stream",
     "text": [
      "C:\\Users\\o3104\\AppData\\Local\\Temp\\ipykernel_19452\\1067665668.py:2: DtypeWarning: Columns (7,8,11,12,15,18) have mixed types. Specify dtype option on import or set low_memory=False.\n",
      "  uriage_df = pd.read_csv(csv_file, dtype=dtype)\n"
     ]
    },
    {
     "name": "stdout",
     "output_type": "stream",
     "text": [
      "    LS_SEQ           ファイル名       枝番  区分     売上年月日    納品書Ｎｏ  枝番2 担当課      受注Ｎｏ  \\\n",
      "0  6424403  1_202311_売上データ  6424403   1  20230105  2018877    1  FA  1FA04117   \n",
      "1  6424404  1_202311_売上データ  6424404   1  20230105  2018880    1  KA  1KA01482   \n",
      "2  6424405  1_202311_売上データ  6424405   1  20230105  2018880    2  KA  1KA01482   \n",
      "3  6424406  1_202311_売上データ  6424406   1  20230105  2018881    1  KA  3KA33062   \n",
      "4  6424407  1_202311_売上データ  6424407   1  20230105  2018882    1  KA  1KA02066   \n",
      "5  6424408  1_202311_売上データ  6424408   1  20230105  2018883    1  KA  1KA02004   \n",
      "6  6424409  1_202311_売上データ  6424409   1  20230105  2018884    1  KA  1KA01616   \n",
      "7  6424410  1_202311_売上データ  6424410   1  20230105  2018885    1  KA  1KA01617   \n",
      "8  6424411  1_202311_売上データ  6424411   1  20230105  2018886    1  KA  1KA01032   \n",
      "9  6424412  1_202311_売上データ  6424412   1  20230105  2018887    1  KA  1KA02235   \n",
      "\n",
      "   明細Ｎｏ  ...  セレクトDMP（ターゲット） 検索ソナー（ターゲット） 実行結果コード LBCマッチ区分  LBCマッチ結果区分  \\\n",
      "0   1.0  ...             0.0          0.0     0.0        0           A   \n",
      "1   1.0  ...             0.0          0.0     0.0        0           C   \n",
      "2   2.0  ...             0.0          0.0     0.0        0           C   \n",
      "3   1.0  ...             0.0          0.0     0.0        0           A   \n",
      "4   1.0  ...             0.0          0.0     0.0        0           A   \n",
      "5   1.0  ...             0.0          0.0     0.0        0           C   \n",
      "6   1.0  ...             0.0          0.0     0.0        0           B   \n",
      "7   1.0  ...             0.0          0.0     0.0        0           B   \n",
      "8   1.0  ...             0.0          0.0     0.0        0           A   \n",
      "9   1.0  ...             0.0          0.0     0.0        0           B   \n",
      "\n",
      "                               LBCマッチ結果詳細 LBCアンマッチ理由 法人名変更フラグ  住所変更フラグ  \\\n",
      "0  01.Aマッチ【社名マッチ + 住所マッチ(番地＋番号) + TELマッチ】             02.変更あり  01.変更なし   \n",
      "1         15.Cマッチ【社名前方マッチ + 住所マッチ(番地＋番号)】             02.変更あり  01.変更なし   \n",
      "2         15.Cマッチ【社名前方マッチ + 住所マッチ(番地＋番号)】             02.変更あり  01.変更なし   \n",
      "3           02.Aマッチ【社名マッチ + 住所マッチ(番地＋番号)】             02.変更あり  01.変更なし   \n",
      "4  01.Aマッチ【社名マッチ + 住所マッチ(番地＋番号) + TELマッチ】             02.変更あり  01.変更なし   \n",
      "5         15.Cマッチ【社名前方マッチ + 住所マッチ(番地＋番号)】             02.変更あり  01.変更なし   \n",
      "6   08.Bマッチ【社名含む + 住所マッチ(番地＋番号) + TELマッチ】             02.変更あり  01.変更なし   \n",
      "7   08.Bマッチ【社名含む + 住所マッチ(番地＋番号) + TELマッチ】             02.変更あり  01.変更なし   \n",
      "8  01.Aマッチ【社名マッチ + 住所マッチ(番地＋番号) + TELマッチ】             02.変更あり  01.変更なし   \n",
      "9   08.Bマッチ【社名含む + 住所マッチ(番地＋番号) + TELマッチ】             02.変更あり  01.変更なし   \n",
      "\n",
      "   電話番号変更フラグ  \n",
      "0    01.変更なし  \n",
      "1    02.変更あり  \n",
      "2    02.変更あり  \n",
      "3    02.変更あり  \n",
      "4    01.変更なし  \n",
      "5    02.変更あり  \n",
      "6    02.変更あり  \n",
      "7    02.変更あり  \n",
      "8    01.変更なし  \n",
      "9    01.変更なし  \n",
      "\n",
      "[10 rows x 112 columns]\n"
     ]
    }
   ],
   "source": [
    "csv_file = r\"D:\\Users\\python\\sansan\\notebooks\\data\\db\\売上.csv\"\n",
    "uriage_df = pd.read_csv(csv_file, dtype=dtype)\n",
    "\n",
    "for column in uriage_df.columns:\n",
    "    if uriage_df[column].dtype == 'O':  # 文字列型 (Object型) の場合\n",
    "        uriage_df[column] = uriage_df[column].fillna('')\n",
    "    else:  # 数値型の場合\n",
    "        uriage_df[column] = uriage_df[column].fillna(0)\n",
    "\n",
    "print(uriage_df[:10])"
   ]
  },
  {
   "cell_type": "code",
   "execution_count": 31,
   "metadata": {},
   "outputs": [
    {
     "name": "stdout",
     "output_type": "stream",
     "text": [
      "0         10222166237\n",
      "1         10016663782\n",
      "2         10016663782\n",
      "3         10208278673\n",
      "4         10011816250\n",
      "             ...     \n",
      "227488    10028602664\n",
      "227489    10028602664\n",
      "227490    10016086919\n",
      "227491    10000059286\n",
      "227492    10017247256\n",
      "Name: LBC, Length: 227493, dtype: Int64\n",
      "0         10222166237\n",
      "1         10016663782\n",
      "2         10016663782\n",
      "3         10208278673\n",
      "4         10011816250\n",
      "             ...     \n",
      "227488    10028602664\n",
      "227489    10028602664\n",
      "227490    10016086919\n",
      "227491    10000059286\n",
      "227492    10017247256\n",
      "Name: LBC, Length: 227493, dtype: Int64\n"
     ]
    }
   ],
   "source": [
    "# print(uriage_df['LBC'])\n",
    "# uriage_df['LBC'] = uriage_df['LBC'].fillna(0).astype('Int64')\n",
    "# uriage_df['本社LBC'] = uriage_df['本社LBC'].fillna(0).astype('Int64')\n",
    "# uriage_df['親会社LBC'] = uriage_df['親会社LBC'].fillna(0).astype('Int64')\n",
    "# uriage_df['系列トップLBC1'] = uriage_df['系列トップLBC1'].fillna(0).astype('Int64')\n",
    "# print(uriage_df['LBC'].fillna(0).astype('Int64'))"
   ]
  },
  {
   "cell_type": "code",
   "execution_count": 138,
   "metadata": {},
   "outputs": [
    {
     "data": {
      "text/plain": [
       "-1"
      ]
     },
     "execution_count": 138,
     "metadata": {},
     "output_type": "execute_result"
    }
   ],
   "source": [
    "# テーブル名\n",
    "user_table_name = \"名寄せ_売上データ_ALL\"\n",
    "\n",
    "# SQL Serverにデータをインポート\n",
    "uriage_df.to_sql(user_table_name, con=engine, if_exists=\"replace\", index=False)"
   ]
  },
  {
   "cell_type": "markdown",
   "metadata": {},
   "source": [
    "# 品名マスター"
   ]
  },
  {
   "cell_type": "code",
   "execution_count": 139,
   "metadata": {},
   "outputs": [],
   "source": [
    "dtype = {\n",
    "    '管理製造課コード': 'Int64',\n",
    "    '会社': 'object',\n",
    "    '部品展開レベル': 'Int64',\n",
    "    # 'ＰＯＳコード': 'Int64',\n",
    "    '仕入区分': 'Int64',\n",
    "    '詰合せ区分': 'Int64',\n",
    "    '季節品区分': 'Int64',\n",
    "    '袋入数': 'Int64',\n",
    "    # '内積容量': 'Int64',\n",
    "    '積み付け数': 'Int64',\n",
    "    '在庫表示区分': 'Int64',\n",
    "    '商品発売日': 'Int64',\n",
    "    '仕入加工先変更日': 'Int64',\n",
    "    '倉庫コード': 'object',\n",
    "    '仕上げ人員': 'Int64',\n",
    "    '段取時分': 'Int64',\n",
    "    '安全在庫数': 'Int64',\n",
    "    '最大在庫数': 'Int64',\n",
    "    'リードタイム': 'Int64',\n",
    "    '仕切支給単価種': 'Int64',\n",
    "    '仕切支給単価変更日': 'Int64',\n",
    "    # '仕入外注買単価種': 'Int64',\n",
    "    '仕入外注買単価変更日': 'Int64',\n",
    "    '基本会社コード': 'Int64',\n",
    "    # '金型コード': 'Int64',\n",
    "    '統合日付': 'Int64',\n",
    "    '取消区分': 'Int64',\n",
    "    '更新日': 'Int64',\n",
    "    '登録日': 'Int64',\n",
    "}"
   ]
  },
  {
   "cell_type": "code",
   "execution_count": 140,
   "metadata": {},
   "outputs": [
    {
     "name": "stderr",
     "output_type": "stream",
     "text": [
      "C:\\Users\\o3104\\AppData\\Local\\Temp\\ipykernel_19452\\112004091.py:2: DtypeWarning: Columns (18,52,62) have mixed types. Specify dtype option on import or set low_memory=False.\n",
      "  himei_df = pd.read_csv(csv_file, dtype=dtype)\n"
     ]
    },
    {
     "name": "stdout",
     "output_type": "stream",
     "text": [
      "   管理製造課コード      品番コード  会社 仕入加工先コード 営業部課コード                          品名 色コード  \\\n",
      "0     13320  1101A0004  00  NPPK151      GA                 (PP) BC-03C        \n",
      "1     13320  1101A0016  00  NPPK151      GA                  (PP) BC-6C        \n",
      "2     13320  1101A0032  00  ITOC151      GA                (PP) J-452HP    N   \n",
      "3     13320  1101A0050  00  NPPK151      GA                   (PP) MH-4        \n",
      "4     13320  1101A0089  00  NPPK151      GA                 (PP) BC-03B    N   \n",
      "5     13320  1101A0102  00  NPPK151      GA                (PP) BC-03GS    N   \n",
      "6     33010  1101A0124  00  NPPK151      GG  *PP) MA-3          (J-209)    N   \n",
      "7     13320  1101A0158  00  NPPK151      GA                  *PP) BC-2E    N   \n",
      "8     13320  1101A0277  00  ITOC151      GA          (PP  J452HP (SPﾖｳ)    N   \n",
      "9     13320  1101A0310  00  NPPK151      GA                  *PP) BC-3L    N   \n",
      "\n",
      "   部品展開レベル 出荷単位   入数  ...             備考 基本会社コード   金型コード       ＷＳ名 配信区分  \\\n",
      "0        1   KG  0.0  ...                      0  101005  GT6040UY        \n",
      "1        1   KG  0.0  ...                      0  101020  GT6040UY        \n",
      "2        1   KG  0.0  ...                      0  101042  GT6040UY        \n",
      "3        1   KG  0.0  ...                      0  101064  GT6040UY        \n",
      "4        1   KG  0.0  ...                      0  101364  GT6040UY        \n",
      "5        1   KG  0.0  ...                      0  101451  GT6040UY        \n",
      "6        1   KG  0.0  ...                      0  101762  GT6040UY        \n",
      "7        1   KG  0.0  ...                      0  121122  GT6040UY        \n",
      "8        1   KG  0.0  ...                      0          GT6040UY        \n",
      "9        1   KG  0.0  ...  ２０２０年１０月　臨時購入       0          GT6040UY        \n",
      "\n",
      "   統合品番コード 統合日付 取消区分     更新日     登録日  \n",
      "0             0    1  230822  880101  \n",
      "1             0    1  230822  880101  \n",
      "2             0    1  230822  880101  \n",
      "3             0    1  230822  880101  \n",
      "4             0    1  230822  880101  \n",
      "5             0    1  230822  880101  \n",
      "6             0    1  230822  880101  \n",
      "7             0    1  230822  880101  \n",
      "8             0    1  230822  910819  \n",
      "9             0    1  230822  920723  \n",
      "\n",
      "[10 rows x 68 columns]\n"
     ]
    }
   ],
   "source": [
    "csv_file = r\"D:\\Users\\python\\sansan\\notebooks\\data\\db\\品マスタ.csv\"\n",
    "himei_df = pd.read_csv(csv_file, dtype=dtype)\n",
    "\n",
    "for column in himei_df.columns:\n",
    "    if himei_df[column].dtype == 'O':  # 文字列型 (Object型) の場合\n",
    "        himei_df[column] = himei_df[column].fillna('')\n",
    "    else:  # 数値型の場合\n",
    "        himei_df[column] = himei_df[column].fillna(0)\n",
    "\n",
    "print(himei_df[:10])"
   ]
  },
  {
   "cell_type": "code",
   "execution_count": 141,
   "metadata": {},
   "outputs": [
    {
     "data": {
      "text/plain": [
       "-1"
      ]
     },
     "execution_count": 141,
     "metadata": {},
     "output_type": "execute_result"
    }
   ],
   "source": [
    "# テーブル名\n",
    "user_table_name = \"品名マスター\"\n",
    "\n",
    "# SQL Serverにデータをインポート\n",
    "himei_df.to_sql(user_table_name, con=engine, if_exists=\"replace\", index=False)"
   ]
  },
  {
   "cell_type": "markdown",
   "metadata": {},
   "source": [
    "# 得意先マスター"
   ]
  },
  {
   "cell_type": "code",
   "execution_count": 5,
   "metadata": {},
   "outputs": [],
   "source": [
    "dtype = {\n",
    "    '住所コード': 'Int64',\n",
    "    '組織コード': 'Int64',\n",
    "    '会社区分': 'Int64',\n",
    "    '決算月・半期': 'Int64',\n",
    "    '決算月・通期': 'Int64',\n",
    "    '締日': 'Int64',\n",
    "    '請求書着日・月': 'Int64',\n",
    "    '請求書着日・日': 'Int64',\n",
    "    '入金日・月': 'Int64',\n",
    "    '入金日・日': 'Int64',\n",
    "    '現金率': 'Int64',\n",
    "    'サイト１': 'Int64',\n",
    "    '比率１': 'Int64',\n",
    "    'サイト２': 'object',\n",
    "    '比率２': 'Int64',\n",
    "    'サイト３': 'Int64',\n",
    "    '比率３': 'Int64',\n",
    "    '請求形態': 'Int64',\n",
    "    '明細指定区分': 'Int64',\n",
    "    '同時発行区分': 'Int64',\n",
    "    '指定便１': 'Int64',\n",
    "    '指定便２': 'Int64',\n",
    "    '社員コード': 'Int64',\n",
    "    '返品時価格比率': 'Int64',\n",
    "    '税区分': 'Int64',\n",
    "    '計算区分': 'Int64',\n",
    "    '端数処理区分': 'Int64',\n",
    "    '納品書明細区分': 'Int64',\n",
    "    '請求発行区分': 'Int64',\n",
    "    '例外締日': 'Int64',\n",
    "    '領収証発行区分': 'Int64',\n",
    "    '請残更新区分': 'Int64',\n",
    "    '削除区分': 'Int64',\n",
    "    '更新日': 'Int64',\n",
    "    '登録日': 'Int64',\n",
    "}"
   ]
  },
  {
   "cell_type": "code",
   "execution_count": 6,
   "metadata": {},
   "outputs": [
    {
     "name": "stdout",
     "output_type": "stream",
     "text": [
      "    得意先コード              得意先名カナ                   社名 支社支店名     窓口名  \\\n",
      "0  AAKJA01            ｱｷｼﾞﾙｼ.ｶ              秋印　株式会社                 \n",
      "1  AANDA01     ｶ.ｴｰｱﾝﾄﾞｴｰﾏﾃﾘｱﾙ    株式会社　エーアンドエーマテリアル        資材・物流部   \n",
      "2  AASHA01               ｶ.ｱｻﾋ             株式会社　アサヒ    本社           \n",
      "3  AASKA01        ｱｻｶｺｳｷﾞｮｳ KK            浅香工業　株式会社  関東支店           \n",
      "4  AASPA01           ｶ.ｱｽﾊﾟｯｸｽ          株式会社　アスパックス                 \n",
      "5  AASPB01           ｶ.ｱｽﾊﾟｯｸｽ          株式会社　アスパックス  沼田工場           \n",
      "6  ABANA01         ｶ.ｱｰﾊﾞﾝﾌﾟﾗﾝ         株式会社　アーバンプラン                 \n",
      "7  ABCMA01        ｶ.ｴｰﾋﾞｰｼｰﾏｰﾄ      株式会社　エービーシー・マート                 \n",
      "8  ABICA02  ｶ.ｱｸｱﾋﾞﾙﾄｺｰﾎﾟﾚｰｼｮﾝ  株式会社　アクアビルトコーポレーション                 \n",
      "9  ABICA03  ｶ.ｱｸｱﾋﾞﾙﾄｺｰﾎﾟﾚｰｼｮﾝ  株式会社　アクアビルトコーポレーション                 \n",
      "\n",
      "                略称          電話番号         ＦＡＸ番号 旧郵便番号  住所コード  ...     新郵便番号  \\\n",
      "0            秋印（株）  018-869-5131  018-868-4794         5201  ...  010-0802   \n",
      "1  （株）エーアンドエーマテリアル  045-503-5786  045-503-5779        14101  ...  230-8511   \n",
      "2           （株）アサヒ  03-3855-0211  03-3857-4747        13121  ...  123-0871   \n",
      "3      浅香工業（株）関東支店  048-657-8358  048-651-7700   336  11102  ...  331-0823   \n",
      "4        （株）アスパックス  0277-54-1531  0277-54-3327        10203  ...  376-0136   \n",
      "5   （株）アスパックス　沼田工場  0278-22-5272  0278-22-5273        10206  ...  378-0077   \n",
      "6       （株）アーバンプラン  03-5909-0515  03-5909-0516        13104  ...  163-0532   \n",
      "7       エービーシー・マート  03-3476-5621  03-3476-5623        13113  ...  150-0043   \n",
      "8  （株）アクアビルトコーポレーシ  03-3230-0234  03-5215-5660        13101  ...  102-0074   \n",
      "9  （株）アクアビルトコーポレーシ  03-3230-0234  03-5215-5660        13101  ...  102-0074   \n",
      "\n",
      "  請求発行区分    一括集金先 例外締日 領収証発行区分  請残更新区分  削除区分       ＷＳ名     更新日     登録日  \n",
      "0      1             0       1       0     0  MPTC31UP  230915   91217  \n",
      "1      1             0       1       0     0  MPTC31UP  230915  150708  \n",
      "2      1             0       1       0     0  MPTC31UP  230915  120423  \n",
      "3      1             0       1       0     0  MPTC31UP  230915  931013  \n",
      "4      1             0       1       0     0  MPTC31UP  230915   60901  \n",
      "5      1  AASPA01    0       1       0     0  MPTC31UP  230915  110118  \n",
      "6      6            31       1       0     0  MPTC31UP  230915  220804  \n",
      "7      1            31       1       0     0  MPTC31UP  230915  211006  \n",
      "8      1  ABICA03    0       1       0     0  MPTC31UP  230915   80307  \n",
      "9      1             0       1       0     0  MPTC31UP  230915  150312  \n",
      "\n",
      "[10 rows x 60 columns]\n"
     ]
    }
   ],
   "source": [
    "csv_file = r\"D:\\Users\\python\\sansan\\notebooks\\data\\db\\得意先.csv\"\n",
    "tokui_df = pd.read_csv(csv_file, dtype=dtype)\n",
    "\n",
    "for column in tokui_df.columns:\n",
    "    if tokui_df[column].dtype == 'O':  # 文字列型 (Object型) の場合\n",
    "        tokui_df[column] = tokui_df[column].fillna('')\n",
    "    else:  # 数値型の場合\n",
    "        tokui_df[column] = tokui_df[column].fillna(0)\n",
    "\n",
    "print(tokui_df[:10])"
   ]
  },
  {
   "cell_type": "code",
   "execution_count": 7,
   "metadata": {},
   "outputs": [
    {
     "data": {
      "text/plain": [
       "-1"
      ]
     },
     "execution_count": 7,
     "metadata": {},
     "output_type": "execute_result"
    }
   ],
   "source": [
    "# テーブル名\n",
    "user_table_name = \"得意先マスター\"\n",
    "\n",
    "# SQL Serverにデータをインポート\n",
    "tokui_df.to_sql(user_table_name, con=engine, if_exists=\"replace\", index=False)"
   ]
  },
  {
   "cell_type": "markdown",
   "metadata": {},
   "source": [
    "# パラメーター"
   ]
  },
  {
   "cell_type": "code",
   "execution_count": 149,
   "metadata": {},
   "outputs": [],
   "source": [
    "dtype = {\n",
    "    'ＫＥＹ': 'Int64',\n",
    "    # 'ＦＩＬ': 'Int64',\n",
    "    '更新日': 'Int64',\n",
    "    '登録日': 'Int64',\n",
    "}"
   ]
  },
  {
   "cell_type": "code",
   "execution_count": 150,
   "metadata": {},
   "outputs": [
    {
     "name": "stdout",
     "output_type": "stream",
     "text": [
      "     区分  ＫＥＹ         項目１                   項目２     項目３              項目４ ＦＩＬ  \\\n",
      "0  Y001    1     ｷﾑﾗ ﾀｶｼ  121100    220     01   木村　隆志     開発本部商品開発グループ   1   \n",
      "1  Y001    2    ｵｵﾉ ﾋﾛﾔｽ  113200    200     01   大野　宏泰    経営企画統括本部経営企画部   1   \n",
      "2  Y001    4  ﾅｶﾞﾀ ｼﾞﾕﾝﾔ  137100    240     01   永田　順也         生産本部本社工場   1   \n",
      "3  Y001    6   ｻｲｷ ﾘﾖｳｼﾞ  753200    220     02   斎木　亮治      営業１部ＰＥＴグループ   1   \n",
      "4  Y001    9   ﾔﾏﾀﾞ ﾄﾓﾌﾐ  773210    340     02   山田　智文       名古屋支店静岡営業所   1   \n",
      "5  Y001   11    ﾏﾙﾀ ﾖｳｽｹ  146100    260     01   丸田　陽介      産業資材事業部大阪支店   1   \n",
      "6  Y001   16    ｸﾗﾓﾁ ﾘｴｺ  144215    880     01  倉持　梨絵子        東京支店第３チーム   1   \n",
      "7  Y001   24    ﾔﾏﾅｶ ｶｵﾘ  712230    880     02  山中　香保里  犬山真空成形第２チーム（検査）   1   \n",
      "8  Y001  301  ﾏﾂﾑﾗ ｶｽﾞﾋｺ  732130    880     02   松村　和彦    倉庫管理チーム（関東駐在）   1   \n",
      "9  Y001  303   ﾏﾂﾓﾄ ﾋﾛﾐﾁ  713117    880     02   松本　弘道  群馬工場押出成形チーム（備品）   1   \n",
      "\n",
      "     ＷＳ名     更新日     登録日  \n",
      "0  BDD15  220322     412  \n",
      "1  BDD15  220301     412  \n",
      "2  BDD15  220322     412  \n",
      "3  BDD15  230322     412  \n",
      "4  BDD15  220301  220301  \n",
      "5  BDD15  231023     412  \n",
      "6  BDD15  220228     412  \n",
      "7  BDD15  230322     412  \n",
      "8  BDD15  220228     122  \n",
      "9  BDD15  220228     316  \n"
     ]
    }
   ],
   "source": [
    "csv_file = r\"D:\\Users\\python\\sansan\\notebooks\\data\\db\\パラメーター_社員.csv\"\n",
    "param_df = pd.read_csv(csv_file, dtype=dtype)\n",
    "\n",
    "for column in param_df.columns:\n",
    "    if param_df[column].dtype == 'O':  # 文字列型 (Object型) の場合\n",
    "        param_df[column] = param_df[column].fillna('')\n",
    "    else:  # 数値型の場合\n",
    "        param_df[column] = param_df[column].fillna(0)\n",
    "\n",
    "print(param_df[:10])"
   ]
  },
  {
   "cell_type": "code",
   "execution_count": 151,
   "metadata": {},
   "outputs": [
    {
     "data": {
      "text/plain": [
       "-1"
      ]
     },
     "execution_count": 151,
     "metadata": {},
     "output_type": "execute_result"
    }
   ],
   "source": [
    "# テーブル名\n",
    "user_table_name = \"パラメーター\"\n",
    "\n",
    "# SQL Serverにデータをインポート\n",
    "param_df.to_sql(user_table_name, con=engine, if_exists=\"replace\", index=False)"
   ]
  }
 ],
 "metadata": {
  "kernelspec": {
   "display_name": "Python 3",
   "language": "python",
   "name": "python3"
  },
  "language_info": {
   "codemirror_mode": {
    "name": "ipython",
    "version": 3
   },
   "file_extension": ".py",
   "mimetype": "text/x-python",
   "name": "python",
   "nbconvert_exporter": "python",
   "pygments_lexer": "ipython3",
   "version": "3.11.0"
  }
 },
 "nbformat": 4,
 "nbformat_minor": 2
}
