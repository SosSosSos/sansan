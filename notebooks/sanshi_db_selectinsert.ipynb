{
 "cells": [
  {
   "cell_type": "markdown",
   "metadata": {},
   "source": [
    "# SQLServerの（売上、マスター情報）をBigQuery用のDBに登録する。"
   ]
  },
  {
   "cell_type": "code",
   "execution_count": 22,
   "metadata": {},
   "outputs": [
    {
     "name": "stdout",
     "output_type": "stream",
     "text": [
      "Requirement already satisfied: pyodbc in c:\\python311\\lib\\site-packages (5.0.1)\n"
     ]
    },
    {
     "name": "stderr",
     "output_type": "stream",
     "text": [
      "\n",
      "[notice] A new release of pip is available: 23.2.1 -> 23.3.2\n",
      "[notice] To update, run: python.exe -m pip install --upgrade pip\n"
     ]
    },
    {
     "name": "stdout",
     "output_type": "stream",
     "text": [
      "Requirement already satisfied: sqlalchemy==1.4.46 in c:\\python311\\lib\\site-packages (1.4.46)\n",
      "Requirement already satisfied: greenlet!=0.4.17 in c:\\python311\\lib\\site-packages (from sqlalchemy==1.4.46) (3.0.3)\n"
     ]
    },
    {
     "name": "stderr",
     "output_type": "stream",
     "text": [
      "\n",
      "[notice] A new release of pip is available: 23.2.1 -> 23.3.2\n",
      "[notice] To update, run: python.exe -m pip install --upgrade pip\n"
     ]
    },
    {
     "name": "stdout",
     "output_type": "stream",
     "text": [
      "Requirement already satisfied: pandas in c:\\python311\\lib\\site-packages (2.1.4)\n",
      "Requirement already satisfied: numpy<2,>=1.23.2 in c:\\python311\\lib\\site-packages (from pandas) (1.25.2)\n",
      "Requirement already satisfied: python-dateutil>=2.8.2 in c:\\users\\o3104\\appdata\\roaming\\python\\python311\\site-packages (from pandas) (2.8.2)\n",
      "Requirement already satisfied: pytz>=2020.1 in c:\\python311\\lib\\site-packages (from pandas) (2023.3.post1)\n",
      "Requirement already satisfied: tzdata>=2022.1 in c:\\python311\\lib\\site-packages (from pandas) (2023.3)\n",
      "Requirement already satisfied: six>=1.5 in c:\\users\\o3104\\appdata\\roaming\\python\\python311\\site-packages (from python-dateutil>=2.8.2->pandas) (1.16.0)\n"
     ]
    },
    {
     "name": "stderr",
     "output_type": "stream",
     "text": [
      "\n",
      "[notice] A new release of pip is available: 23.2.1 -> 23.3.2\n",
      "[notice] To update, run: python.exe -m pip install --upgrade pip\n"
     ]
    }
   ],
   "source": [
    "!pip install pyodbc\n",
    "!pip install sqlalchemy==1.4.46\n",
    "!pip install pandas"
   ]
  },
  {
   "cell_type": "code",
   "execution_count": 1,
   "metadata": {},
   "outputs": [],
   "source": [
    "import pandas as pd\n",
    "from sqlalchemy import create_engine"
   ]
  },
  {
   "cell_type": "code",
   "execution_count": 2,
   "metadata": {},
   "outputs": [],
   "source": [
    "from sqlalchemy import create_engine\n",
    "from sqlalchemy.sql import text\n",
    "\n",
    "# SQL Serverへの接続設定\n",
    "server = 'SO-PC'\n",
    "database = 'datamart'\n",
    "username = 'gpkadmin'\n",
    "password = '19vK8xEQ'\n",
    "connection_string = f'mssql+pyodbc://{username}:{password}@{server}/{database}?driver=SQL+Server'\n",
    "\n",
    "# SQLAlchemyエンジンを作成\n",
    "engine = create_engine(connection_string)"
   ]
  },
  {
   "cell_type": "markdown",
   "metadata": {},
   "source": [
    "# 売上"
   ]
  },
  {
   "cell_type": "code",
   "execution_count": 3,
   "metadata": {},
   "outputs": [],
   "source": [
    "from sqlalchemy import Table, MetaData, Column, Integer, String, BigInteger, Float, Date, select\n",
    "\n",
    "# メタデータオブジェクトを作成\n",
    "metadata = MetaData()\n",
    "\n",
    "table1 = Table(\n",
    "    'sales', metadata,\n",
    "    Column('sales_date', Date, primary_key=True),\n",
    "    Column('receipt_number', BigInteger, primary_key=True),\n",
    "    Column('receipt_suffix', BigInteger, primary_key=True),\n",
    "    Column('department', String(2)),\n",
    "    Column('branch', String(50)),\n",
    "    Column('order_number', String(8)),\n",
    "    Column('detail_number', BigInteger),\n",
    "    Column('order_type', BigInteger),\n",
    "    Column('agency_code', String(7)),\n",
    "    Column('customer_code', String(10)),\n",
    "    Column('product_code', String(10)),\n",
    "    Column('quantity', BigInteger),\n",
    "    Column('amount', BigInteger),\n",
    "    Column('lbc', BigInteger),\n",
    "    Column('grade', String(2)),\n",
    "    Column('company', String(255)),\n",
    "    Column('company_kana', String(255)),\n",
    "    Column('office', String(255)),\n",
    "    Column('postal_code', BigInteger),\n",
    "    Column('prefecture_code', BigInteger),\n",
    "    Column('city_code', BigInteger),\n",
    "    Column('prefecture_name', String(255)),\n",
    "    Column('city_name', String(255)),\n",
    "    Column('town_name', String(255)),\n",
    "    Column('block', String(255)),\n",
    "    Column('address_number', String(255)),\n",
    "    Column('building_room_number', String(255)),\n",
    "    Column('number_of_offices', BigInteger),\n",
    "    Column('capital', BigInteger),\n",
    "    Column('current_fiscal_year_month', BigInteger),\n",
    "    Column('current_revenue', BigInteger),\n",
    "    Column('previous_revenue', BigInteger),\n",
    "    Column('preprevious_revenue', BigInteger),\n",
    "    Column('corporate_number', BigInteger),\n",
    "    Column('industry', String(4000))\n",
    ")\n",
    "\n",
    "\n",
    "# テーブルを作成\n",
    "metadata.create_all(engine)"
   ]
  },
  {
   "cell_type": "code",
   "execution_count": 5,
   "metadata": {},
   "outputs": [],
   "source": [
    "# 既存のテーブルからデータをSELECTしてINSERT\n",
    "with engine.begin() as connection:\n",
    "    # INSERT INTO SELECTステートメントを実行\n",
    "    connection.execute(\n",
    "        \"\"\"INSERT INTO sales \n",
    "            SELECT \n",
    "                CONVERT(DATE, CONVERT(VARCHAR(10), 売上年月日), 112) AS 売上年月日, \n",
    "                納品書Ｎｏ, \n",
    "                枝番2, \n",
    "                担当課,\n",
    "                CASE\n",
    "                    WHEN 担当課 = '3A' THEN '松本営業所' \n",
    "                    WHEN 担当課 = 'AA' THEN '新潟営業所' \n",
    "                    WHEN 担当課 = 'BA' THEN '大宮営業所' \n",
    "                    WHEN 担当課 = 'DA' THEN '仙台支店' \n",
    "                    WHEN 担当課 = 'FA' THEN '福岡支店' \n",
    "                    WHEN 担当課 = 'GA' THEN '本社' \n",
    "                    WHEN 担当課 = 'JA' THEN '鹿児島営業所' \n",
    "                    WHEN 担当課 = 'KA' THEN '大阪支店' \n",
    "                    WHEN 担当課 = 'PA' THEN '札幌営業所' \n",
    "                    WHEN 担当課 = 'RA' THEN '広島営業所' \n",
    "                    WHEN 担当課 = 'TA' THEN '東京支店' \n",
    "                    WHEN 担当課 = 'TB' THEN '東京支店' \n",
    "                    WHEN 担当課 = 'UA' THEN '岡山営業所' \n",
    "                    WHEN 担当課 = 'VA' THEN '松山営業所' \n",
    "                    WHEN 担当課 = 'WA' THEN '静岡営業所' \n",
    "                    WHEN 担当課 = 'YA' THEN '西東京営業所' \n",
    "                    WHEN 担当課 = 'ZA' THEN '金沢営業所' \n",
    "                    WHEN 担当課 = 'NA' THEN '名古屋支店' \n",
    "                    ELSE ''\n",
    "                END AS 支店営業所名,\n",
    "                受注Ｎｏ, \n",
    "                明細Ｎｏ, \n",
    "                受注形態, \n",
    "                代理店コード,\n",
    "                得意先コード, \n",
    "                商品コード, \n",
    "                個数,\n",
    "                金額, \n",
    "                LBC, \n",
    "                グレード, \n",
    "                CASE\n",
    "                    WHEN 社名 = '' THEN TRIM(会社名)\n",
    "                    ELSE 社名\n",
    "                END AS 社名結合,\n",
    "                社名カナ, \n",
    "                事業所, \n",
    "                郵便番号, \n",
    "                県コード,\n",
    "                市区町村コード, \n",
    "                都道府県名, \n",
    "                市区郡町村名,\n",
    "                町大字通称名, \n",
    "                字丁目, \n",
    "                番地番号,\n",
    "                建物名部屋番号, \n",
    "                事業所数, \n",
    "                資本金,\n",
    "                当期決算年月, \n",
    "                当期売上高, \n",
    "                前期売上高,\n",
    "                前々期売上高, \n",
    "                法人マイナンバー, \n",
    "                良業種\n",
    "            FROM 名寄せ_売上データ_ALL\"\"\"\n",
    "    )\n",
    "    "
   ]
  },
  {
   "cell_type": "markdown",
   "metadata": {},
   "source": [
    "# 品名マスター"
   ]
  },
  {
   "cell_type": "code",
   "execution_count": 33,
   "metadata": {},
   "outputs": [],
   "source": [
    "# 削除\n",
    "\n",
    "# 削除対象テーブルを定義\n",
    "metadata = MetaData()\n",
    "table_to_drop = Table('product_master', metadata, autoload_with=engine)\n",
    "\n",
    "# drop\n",
    "table_to_drop.drop(engine)"
   ]
  },
  {
   "cell_type": "code",
   "execution_count": 34,
   "metadata": {},
   "outputs": [],
   "source": [
    "# 作成\n",
    "\n",
    "# メタデータオブジェクトを作成\n",
    "metadata = MetaData()\n",
    "table1 = Table(\n",
    "    'product_master',  # テーブル名\n",
    "    metadata,\n",
    "    Column('product_code', String(10), primary_key=True),\n",
    "    Column('department', String(2)),\n",
    "    Column('product_name', String(40)),\n",
    "    Column('color_code', String(4)),\n",
    "    Column('quantity', Float),\n",
    "    Column('minimum_unit', String(2)),\n",
    "    Column('stock_unit', String(2)),\n",
    "    Column('product_rank', String(2)),\n",
    "    Column('pos_code', String),\n",
    "    Column('production_rank', String(2)),\n",
    "    Column('midterm_standard', Float),\n",
    "    Column('standard_cost', Float),\n",
    ")\n",
    "\n",
    "# テーブルを作成\n",
    "metadata.create_all(engine)"
   ]
  },
  {
   "cell_type": "code",
   "execution_count": 35,
   "metadata": {},
   "outputs": [],
   "source": [
    "# 既存のテーブルからデータをSELECTしてINSERT\n",
    "with engine.begin() as connection:\n",
    "    # INSERT INTO SELECTステートメントを実行\n",
    "    connection.execute(\n",
    "        \"\"\"INSERT INTO product_master\n",
    "            SELECT \n",
    "                商品コード\n",
    "                ,営業部課コード\n",
    "                ,品名\n",
    "                ,色コード\n",
    "                ,入数\n",
    "                ,最小単位\n",
    "                ,在庫単位\n",
    "                ,製品ランク\n",
    "                ,ＰＯＳコード\n",
    "                ,生産ランク\n",
    "                ,期中基準\n",
    "                ,標準原価\n",
    "        FROM 商品マスター\"\"\"\n",
    "    )"
   ]
  },
  {
   "cell_type": "markdown",
   "metadata": {},
   "source": [
    "# 得意先マスター"
   ]
  },
  {
   "cell_type": "code",
   "execution_count": 43,
   "metadata": {},
   "outputs": [],
   "source": [
    "# 削除\n",
    "\n",
    "# 削除対象テーブルを定義\n",
    "metadata = MetaData()\n",
    "table_to_drop = Table('agency_master', metadata, autoload_with=engine)\n",
    "\n",
    "# drop\n",
    "table_to_drop.drop(engine)"
   ]
  },
  {
   "cell_type": "code",
   "execution_count": 44,
   "metadata": {},
   "outputs": [],
   "source": [
    "# 作成\n",
    "\n",
    "# メタデータオブジェクトを作成\n",
    "metadata = MetaData()\n",
    "agency_master_table = Table(\n",
    "    'agency_master',  # テーブル名\n",
    "    metadata,\n",
    "    Column('agency_code', String(7), primary_key=True),\n",
    "    Column('company_name', String(40)),\n",
    "    Column('branch_office_name', String(20)),\n",
    "    Column('contact_name', String(20)),\n",
    "    Column('abbreviation', String(30)),\n",
    "    Column('department', String(2)),\n",
    "    Column('organization_code', BigInteger),\n",
    "    Column('employee_code', BigInteger),\n",
    ")\n",
    "\n",
    "# テーブルを作成\n",
    "metadata.create_all(engine)"
   ]
  },
  {
   "cell_type": "code",
   "execution_count": 46,
   "metadata": {},
   "outputs": [],
   "source": [
    "# 既存のテーブルからデータをSELECTしてINSERT\n",
    "with engine.begin() as connection:\n",
    "    # INSERT INTO SELECTステートメントを実行\n",
    "    connection.execute(\n",
    "        \"\"\"INSERT INTO agency_master\n",
    "            SELECT \n",
    "                得意先コード\n",
    "                ,社名\n",
    "                ,支社支店名\n",
    "                ,窓口名\n",
    "                ,略称\n",
    "                ,担当課コード\n",
    "                ,組織コード\n",
    "                ,社員コード\n",
    "        FROM 得意先マスター\"\"\"\n",
    "    )"
   ]
  },
  {
   "cell_type": "markdown",
   "metadata": {},
   "source": [
    "# パラメーター(社員マスター)"
   ]
  },
  {
   "cell_type": "code",
   "execution_count": 65,
   "metadata": {},
   "outputs": [],
   "source": [
    "# 削除\n",
    "\n",
    "# 削除対象テーブルを定義\n",
    "metadata = MetaData()\n",
    "table_to_drop = Table('employee_master', metadata, autoload_with=engine)\n",
    "\n",
    "# drop\n",
    "table_to_drop.drop(engine)"
   ]
  },
  {
   "cell_type": "code",
   "execution_count": 67,
   "metadata": {},
   "outputs": [],
   "source": [
    "# 作成\n",
    "\n",
    "# メタデータオブジェクトを作成\n",
    "metadata = MetaData()\n",
    "agency_master_table = Table(\n",
    "    'employee_master',  # テーブル名\n",
    "    metadata,\n",
    "    Column('employee_code', BigInteger), #primary_key=True),\n",
    "    Column('employee_name', String(40)),\n",
    "    Column('employee_department', String(40)),\n",
    ")\n",
    "\n",
    "# テーブルを作成\n",
    "metadata.create_all(engine)"
   ]
  },
  {
   "cell_type": "code",
   "execution_count": 68,
   "metadata": {},
   "outputs": [],
   "source": [
    "# 既存のテーブルからデータをSELECTしてINSERT\n",
    "with engine.begin() as connection:\n",
    "    # INSERT INTO SELECTステートメントを実行\n",
    "    connection.execute(\n",
    "        \"\"\"INSERT INTO employee_master\n",
    "            (employee_code\n",
    "            ,employee_name\n",
    "            ,employee_department)\n",
    "            SELECT \n",
    "                [ＫＥＹ] AS employee_code\n",
    "                ,[項目３] AS employee_name\n",
    "                ,[項目４] AS employee_department\n",
    "        FROM [パラメーター]\"\"\"\n",
    "    )"
   ]
  }
 ],
 "metadata": {
  "kernelspec": {
   "display_name": "Python 3",
   "language": "python",
   "name": "python3"
  },
  "language_info": {
   "codemirror_mode": {
    "name": "ipython",
    "version": 3
   },
   "file_extension": ".py",
   "mimetype": "text/x-python",
   "name": "python",
   "nbconvert_exporter": "python",
   "pygments_lexer": "ipython3",
   "version": "3.11.0"
  }
 },
 "nbformat": 4,
 "nbformat_minor": 2
}
