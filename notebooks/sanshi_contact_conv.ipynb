{
 "cells": [
  {
   "cell_type": "markdown",
   "metadata": {},
   "source": [
    "# BigQuery用のCSVをSQLServerから出力する"
   ]
  },
  {
   "cell_type": "code",
   "execution_count": null,
   "metadata": {},
   "outputs": [],
   "source": [
    "# !pip install pyodbc\n",
    "# !pip install sqlalchemy==1.4.46\n",
    "# !pip install pandas\n"
   ]
  },
  {
   "cell_type": "code",
   "execution_count": null,
   "metadata": {},
   "outputs": [],
   "source": [
    "from sqlalchemy import create_engine\n",
    "from sqlalchemy.sql import text\n",
    "import pandas as pd"
   ]
  },
  {
   "cell_type": "code",
   "execution_count": null,
   "metadata": {},
   "outputs": [],
   "source": [
    "# SQL Serverへの接続設定\n",
    "server = 'SO-PC'\n",
    "database = 'datamart'\n",
    "username = 'gpkadmin'\n",
    "password = '19vK8xEQ'\n",
    "connection_string = f'mssql+pyodbc://{username}:{password}@{server}/{database}?driver=SQL+Server'\n",
    "\n",
    "# SQLAlchemyエンジンを作成\n",
    "engine = create_engine(connection_string)"
   ]
  },
  {
   "cell_type": "markdown",
   "metadata": {},
   "source": [
    "# 商品マスター"
   ]
  },
  {
   "cell_type": "code",
   "execution_count": 8,
   "metadata": {},
   "outputs": [],
   "source": [
    "# テーブルデータをDataFrameに読み込む\n",
    "df = pd.read_sql_table('product_master', engine)\n",
    "df = df.fillna('')\n",
    "\n",
    "# DataFrameをCSVに出力\n",
    "df.to_csv('./data/db/product_master.csv', index=False, quotechar='\"', quoting=1)"
   ]
  },
  {
   "cell_type": "markdown",
   "metadata": {},
   "source": [
    "# 得意先マスター"
   ]
  },
  {
   "cell_type": "code",
   "execution_count": null,
   "metadata": {},
   "outputs": [],
   "source": [
    "# テーブルデータをDataFrameに読み込む\n",
    "df = pd.read_sql_table('agency_master', engine)\n",
    "df = df.fillna('')\n",
    "\n",
    "# DataFrameをCSVに出力\n",
    "df.to_csv('./data/db/agency_master.csv', index=False, quotechar='\"', quoting=1)"
   ]
  },
  {
   "cell_type": "markdown",
   "metadata": {},
   "source": [
    "# 社員マスター"
   ]
  },
  {
   "cell_type": "code",
   "execution_count": 9,
   "metadata": {},
   "outputs": [],
   "source": [
    "# テーブルデータをDataFrameに読み込む\n",
    "df = pd.read_sql_table('employee_master', engine)\n",
    "df = df.fillna('')\n",
    "\n",
    "# DataFrameをCSVに出力\n",
    "df.to_csv('./data/db/employee_master.csv', index=False, quotechar='\"', quoting=1)"
   ]
  },
  {
   "cell_type": "markdown",
   "metadata": {},
   "source": [
    "# コンタクト登録"
   ]
  },
  {
   "cell_type": "code",
   "execution_count": 11,
   "metadata": {},
   "outputs": [],
   "source": [
    "# テーブルデータをDataFrameに読み込む\n",
    "df = pd.read_sql_table('sansan_contact', engine)\n",
    "df = df.fillna('')\n",
    "\n",
    "df['contact_date'] = pd.to_datetime(df['contact_date'], format='%Y/%m/%d').dt.strftime('%Y-%m-%d')\n",
    "\n",
    "# DataFrameをCSVに出力\n",
    "df.to_csv('./data/db/contact.csv', index=False, quotechar='\"', quoting=1)"
   ]
  }
 ],
 "metadata": {
  "kernelspec": {
   "display_name": "Python 3",
   "language": "python",
   "name": "python3"
  },
  "language_info": {
   "codemirror_mode": {
    "name": "ipython",
    "version": 3
   },
   "file_extension": ".py",
   "mimetype": "text/x-python",
   "name": "python",
   "nbconvert_exporter": "python",
   "pygments_lexer": "ipython3",
   "version": "3.11.0"
  }
 },
 "nbformat": 4,
 "nbformat_minor": 2
}
