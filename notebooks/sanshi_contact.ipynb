{
 "cells": [
  {
   "cell_type": "markdown",
   "metadata": {},
   "source": [
    "# SANSANのコンタクトのCSVをSQLServerに登録する"
   ]
  },
  {
   "cell_type": "code",
   "execution_count": null,
   "metadata": {},
   "outputs": [],
   "source": [
    "!pip install pyodbc\n",
    "!pip install sqlalchemy==1.4.46\n",
    "!pip install pandas"
   ]
  },
  {
   "cell_type": "code",
   "execution_count": null,
   "metadata": {},
   "outputs": [],
   "source": [
    "import pandas as pd\n",
    "from sqlalchemy import create_engine"
   ]
  },
  {
   "cell_type": "markdown",
   "metadata": {},
   "source": [
    "# ユーザ(SANSAN_USER)のTRUNCATE＋登録"
   ]
  },
  {
   "cell_type": "code",
   "execution_count": null,
   "metadata": {},
   "outputs": [],
   "source": [
    "dtype = {\n",
    "    'ユーザID': 'Int64',\n",
    "    # 'ＦＩＬ': 'Int64',\n",
    "    '削除フラグ': 'Int64',\n",
    "}\n",
    "\n",
    "csv_file = r\"D:\\Users\\python\\sansan\\notebooks\\data\\sansan_user.csv\"\n",
    "user_df = pd.read_csv(csv_file, dtype=dtype)\n",
    "column_mappings = {\n",
    "    '所属部署 *': 'dpt',\n",
    "    'ユーザID *': 'id',\n",
    "    'ユーザ名 *': 'name',\n",
    "    # 'ユーザ名の読み': 'NAME_READABLE',\n",
    "    'メールアドレス *': 'mail',\n",
    "    # 'サブメールアドレス': 'SUB_MAIL',\n",
    "    # '利用開始日 *': 'START_DATE',\n",
    "    # '言語 (システム上の表示言語)': 'LANG',\n",
    "    # 'メール受信形式': 'MAILER',\n",
    "    # 'SAML Name ID': 'SAML_NAME_ID',\n",
    "    # 'ユーザ区分': 'CATERGORY',\n",
    "    # '[権限] 全データ更新': 'AUTH_UPDATE',\n",
    "    # '[権限] 名刺・コンタクトのダウンロード': 'AUTH_DL_CARD',\n",
    "    # '[権限] メール配信': 'AUTH_MAIL',\n",
    "    # '[権限] 案件管理': 'AUTH_ANKEN',\n",
    "    # '[権限] API・Zapier連携': 'AUTH_API',\n",
    "    # '[権限] 利用実績の確認': 'AUTH_RECORD',\n",
    "    # '[権限] 会社・組織ツリーのダウンロード': 'AUTH_DL_CO',\n",
    "    # 'アカウント状況': 'STATUS',\n",
    "    '削除フラグ': 'del_flg',\n",
    "}\n",
    "\n",
    "req_columns = list(column_mappings.keys())\n",
    "fltr_user_df = user_df[req_columns]\n",
    "fltr_user_df = fltr_user_df.rename(columns=column_mappings)\n",
    "\n",
    "# 部署に'産業資材事業部'を含む行のみを選択\n",
    "pattern = '産業資材事業部'\n",
    "fltr_user_df = fltr_user_df[fltr_user_df['dpt'].str.contains(pattern, regex=True)]\n",
    "\n",
    "# 最初のスペースまでの文字列を抽出\n",
    "fltr_user_df['branch'] = fltr_user_df['dpt'].str.split().str[0]\n",
    "\n",
    "fltr_user_df['del_flg'].fillna(0, inplace=True)\n",
    "\n",
    "print(fltr_user_df)\n"
   ]
  },
  {
   "cell_type": "code",
   "execution_count": null,
   "metadata": {},
   "outputs": [],
   "source": [
    "from sqlalchemy import create_engine\n",
    "from sqlalchemy.sql import text\n",
    "\n",
    "# SQL Serverへの接続設定\n",
    "server = 'SO-PC'\n",
    "database = 'datamart'\n",
    "username = 'gpkadmin'\n",
    "password = '19vK8xEQ'\n",
    "connection_string = f'mssql+pyodbc://{username}:{password}@{server}/{database}?driver=SQL+Server'\n",
    "\n",
    "# SQLAlchemyエンジンを作成\n",
    "engine = create_engine(connection_string)"
   ]
  },
  {
   "cell_type": "code",
   "execution_count": null,
   "metadata": {},
   "outputs": [],
   "source": [
    "# Truncateするテーブル名\n",
    "user_table_name = \"sansan_user\"\n",
    "\n",
    "# テーブルをtruncateする\n",
    "with engine.begin() as conn:\n",
    "    conn.execute(text(f\"TRUNCATE TABLE {user_table_name}\"))\n"
   ]
  },
  {
   "cell_type": "code",
   "execution_count": null,
   "metadata": {},
   "outputs": [],
   "source": [
    "# SQL Serverにデータをインポート\n",
    "fltr_user_df.to_sql(user_table_name, con=engine, if_exists='append', index=False)"
   ]
  },
  {
   "cell_type": "markdown",
   "metadata": {},
   "source": [
    "# コンタクト登録"
   ]
  },
  {
   "cell_type": "code",
   "execution_count": null,
   "metadata": {},
   "outputs": [],
   "source": [
    "csv_file = r\"D:\\Users\\python\\sansan\\notebooks\\data\\contactlist_ 20230321_20231126_utf8.csv\"\n",
    "contact_df = pd.read_csv(csv_file)\n",
    "contact_df = contact_df.drop(['社外出席者 [部署 役職]'], axis=1)\n",
    "column_mappings = {\n",
    "    'コンタクト日': 'contact_date',\n",
    "    '時間': 'contact_time',\n",
    "    '区分': 'catergory',\n",
    "    '重要フラグ': 'importance',\n",
    "    '訪問目的': 'purpose',\n",
    "    '訪問先': 'destination',\n",
    "    '商談アイテム': 'product',\n",
    "    '社外出席者': 'customer',\n",
    "    '部署': 'customer_dept',\n",
    "    '役職': 'customor_pos',\n",
    "    '社内出席者': 'salesperson_visited',\n",
    "    'メモ': 'contact_details',\n",
    "    '登録者': 'salesperson_registered',\n",
    "}\n",
    "req_columns = list(column_mappings.keys())\n",
    "fltr_contact_df = contact_df[req_columns]\n",
    "\n",
    "fltr_contact_df.rename(columns=column_mappings, inplace=True)\n",
    "\n",
    "fltr_contact_df['importance'] = fltr_contact_df['importance'].fillna('')\n",
    "\n",
    "# 最初のスペースまでの文字列を抽出\n",
    "fltr_contact_df['customer_company'] = fltr_contact_df['customer'].str.split().str[0]\n",
    "\n",
    "# 2つ目のスペースまでの文字列を抽出\n",
    "fltr_contact_df['customer_name'] = fltr_contact_df['customer'].apply(lambda x: ' '.join(x.split()[1:3]))\n",
    "\n",
    "\n",
    "# ユーザを名前で結合\n",
    "user_brn_df = fltr_user_df[list(['name', 'branch'])]\n",
    "merged_df = fltr_contact_df.merge(user_brn_df, left_on='salesperson_registered', right_on='name' , how='inner').drop(columns=['name'])\n",
    "\n",
    "print(merged_df)"
   ]
  },
  {
   "cell_type": "code",
   "execution_count": null,
   "metadata": {},
   "outputs": [],
   "source": [
    "# SQL Serverへの接続設定\n",
    "server = 'SO-PC'\n",
    "database = 'datamart'\n",
    "username = 'gpkadmin'\n",
    "password = '19vK8xEQ'\n",
    "connection_string = f'mssql+pyodbc://{username}:{password}@{server}/{database}?driver=SQL+Server'\n",
    "\n",
    "# SQLAlchemyエンジンを作成\n",
    "engine = create_engine(connection_string)\n",
    "\n",
    "# SQL Serverにデータをインポート\n",
    "# 1万件で13分かかる\n",
    "merged_df.to_sql('sansan_contact', con=engine, if_exists='append', index=False)"
   ]
  }
 ],
 "metadata": {
  "kernelspec": {
   "display_name": "Python 3",
   "language": "python",
   "name": "python3"
  },
  "language_info": {
   "codemirror_mode": {
    "name": "ipython",
    "version": 3
   },
   "file_extension": ".py",
   "mimetype": "text/x-python",
   "name": "python",
   "nbconvert_exporter": "python",
   "pygments_lexer": "ipython3",
   "version": "3.11.0"
  }
 },
 "nbformat": 4,
 "nbformat_minor": 2
}
