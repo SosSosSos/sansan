{
 "cells": [
  {
   "cell_type": "markdown",
   "metadata": {},
   "source": [
    "# SANSANのコンタクトのCSVをSQLServerに登録する"
   ]
  },
  {
   "cell_type": "code",
   "execution_count": null,
   "metadata": {},
   "outputs": [],
   "source": [
    "!pip install pyodbc\n",
    "!pip install sqlalchemy==1.4.46\n",
    "!pip install pandas"
   ]
  },
  {
   "cell_type": "code",
   "execution_count": 1,
   "metadata": {},
   "outputs": [],
   "source": [
    "import pandas as pd\n",
    "from sqlalchemy import create_engine"
   ]
  },
  {
   "cell_type": "markdown",
   "metadata": {},
   "source": [
    "# ユーザ(SANSAN_USER)のTRUNCATE＋登録"
   ]
  },
  {
   "cell_type": "code",
   "execution_count": 6,
   "metadata": {},
   "outputs": [
    {
     "name": "stdout",
     "output_type": "stream",
     "text": [
      "               dpt               id   name                        mail  \\\n",
      "3       本社　産業資材事業部         t-yoshik  吉川 高央         t-yoshik@risu.co.jp   \n",
      "4       本社　産業資材事業部         y-otsuka  大塚 泰尚         y-otsuka@risu.co.jp   \n",
      "5       本社　産業資材事業部  sanshi-tenjikai  産資展示会  sanshi-tenjikai@risu.co.jp   \n",
      "6       本社　産業資材事業部         k-miyajm  宮嶋 一泰         k-miyajm@risu.co.jp   \n",
      "7       本社　産業資材事業部          n-kondo  近藤 伸彦          n-kondo@risu.co.jp   \n",
      "..             ...              ...    ...                         ...   \n",
      "81    福岡支店　産業資材事業部        r-kaijima   貝嶋 亮        r-kaijima@risu.co.jp   \n",
      "82    福岡支店　産業資材事業部        taka-itou  伊藤 崇洋        taka-itou@risu.co.jp   \n",
      "83    福岡支店　産業資材事業部        t-hayashi   林 大雅        t-hayashi@risu.co.jp   \n",
      "84  鹿児島営業所　産業資材事業部         y-hayasi   林 義博         y-hayasi@risu.co.jp   \n",
      "85  鹿児島営業所　産業資材事業部          t-nisio  西尾 孝之          t-nisio@risu.co.jp   \n",
      "\n",
      "    del_flg  branch  \n",
      "3         0      本社  \n",
      "4         0      本社  \n",
      "5         0      本社  \n",
      "6         0      本社  \n",
      "7         0      本社  \n",
      "..      ...     ...  \n",
      "81        0    福岡支店  \n",
      "82        0    福岡支店  \n",
      "83        0    福岡支店  \n",
      "84        0  鹿児島営業所  \n",
      "85        0  鹿児島営業所  \n",
      "\n",
      "[83 rows x 6 columns]\n"
     ]
    }
   ],
   "source": [
    "dtype = {\n",
    "    'ユーザID': 'Int64',\n",
    "    # 'ＦＩＬ': 'Int64',\n",
    "    '削除フラグ': 'Int64',\n",
    "}\n",
    "\n",
    "csv_file = r\"data\\sansan_user.csv\"\n",
    "user_df = pd.read_csv(csv_file, dtype=dtype)\n",
    "column_mappings = {\n",
    "    '所属部署 *': 'dpt',\n",
    "    'ユーザID *': 'id',\n",
    "    'ユーザ名 *': 'name',\n",
    "    # 'ユーザ名の読み': 'NAME_READABLE',\n",
    "    'メールアドレス *': 'mail',\n",
    "    # 'サブメールアドレス': 'SUB_MAIL',\n",
    "    # '利用開始日 *': 'START_DATE',\n",
    "    # '言語 (システム上の表示言語)': 'LANG',\n",
    "    # 'メール受信形式': 'MAILER',\n",
    "    # 'SAML Name ID': 'SAML_NAME_ID',\n",
    "    # 'ユーザ区分': 'CATERGORY',\n",
    "    # '[権限] 全データ更新': 'AUTH_UPDATE',\n",
    "    # '[権限] 名刺・コンタクトのダウンロード': 'AUTH_DL_CARD',\n",
    "    # '[権限] メール配信': 'AUTH_MAIL',\n",
    "    # '[権限] 案件管理': 'AUTH_ANKEN',\n",
    "    # '[権限] API・Zapier連携': 'AUTH_API',\n",
    "    # '[権限] 利用実績の確認': 'AUTH_RECORD',\n",
    "    # '[権限] 会社・組織ツリーのダウンロード': 'AUTH_DL_CO',\n",
    "    # 'アカウント状況': 'STATUS',\n",
    "    '削除フラグ': 'del_flg',\n",
    "}\n",
    "\n",
    "req_columns = list(column_mappings.keys())\n",
    "fltr_user_df = user_df[req_columns]\n",
    "fltr_user_df = fltr_user_df.rename(columns=column_mappings)\n",
    "\n",
    "# 部署に'産業資材事業部'を含む行のみを選択\n",
    "pattern = '産業資材事業部'\n",
    "fltr_user_df = fltr_user_df[fltr_user_df['dpt'].str.contains(pattern, regex=True)]\n",
    "\n",
    "# 最初のスペースまでの文字列を抽出\n",
    "fltr_user_df['branch'] = fltr_user_df['dpt'].str.split().str[0]\n",
    "\n",
    "fltr_user_df['del_flg'].fillna(0, inplace=True)\n",
    "\n",
    "print(fltr_user_df)\n"
   ]
  },
  {
   "cell_type": "code",
   "execution_count": 7,
   "metadata": {},
   "outputs": [],
   "source": [
    "from sqlalchemy import create_engine\n",
    "from sqlalchemy.sql import text\n",
    "\n",
    "# SQL Serverへの接続設定\n",
    "server = 'GPKMSQ14'\n",
    "database = 'datamart'\n",
    "username = 'gpkadmin'\n",
    "password = '19vK8xEQ'\n",
    "connection_string = f'mssql+pyodbc://{username}:{password}@{server}/{database}?driver=ODBC+Driver+17+for+SQL+Server'\n",
    "\n",
    "# SQLAlchemyエンジンを作成\n",
    "engine = create_engine(connection_string)"
   ]
  },
  {
   "cell_type": "code",
   "execution_count": null,
   "metadata": {},
   "outputs": [],
   "source": [
    "# Truncateするテーブル名\n",
    "user_table_name = \"sansan_user\"\n",
    "\n",
    "# テーブルをtruncateする\n",
    "with engine.begin() as conn:\n",
    "    conn.execute(text(f\"TRUNCATE TABLE {user_table_name}\"))\n"
   ]
  },
  {
   "cell_type": "code",
   "execution_count": null,
   "metadata": {},
   "outputs": [],
   "source": [
    "# SQL Serverにデータをインポート\n",
    "fltr_user_df.to_sql(user_table_name, con=engine, if_exists='append', index=False)"
   ]
  },
  {
   "cell_type": "markdown",
   "metadata": {},
   "source": [
    "# コンタクト登録"
   ]
  },
  {
   "cell_type": "code",
   "execution_count": 11,
   "metadata": {},
   "outputs": [
    {
     "name": "stdout",
     "output_type": "stream",
     "text": [
      "     contact_date contact_time catergory importance         purpose  \\\n",
      "0      2023/11/26  13:00～15:30    面会（来訪）             2.フォロー訪問（計画訪問）   \n",
      "1      2023/11/22  16:00～17:00    面会（訪問）             2.フォロー訪問（計画訪問）   \n",
      "2      2023/11/21  16:00～18:00    面会（来訪）             2.フォロー訪問（計画訪問）   \n",
      "3      2023/11/20  17:30～18:00    電話（発信）             2.フォロー訪問（計画訪問）   \n",
      "4      2023/11/14  10:00～12:00    面会（訪問）             2.フォロー訪問（計画訪問）   \n",
      "...           ...          ...       ...        ...             ...   \n",
      "9484   2023/05/25  14:00～15:30    面会（訪問）                   1.新規顧客訪問   \n",
      "9485   2023/04/18  10:00～11:30        面会                   1.新規顧客訪問   \n",
      "9486   2023/04/17  16:00～17:00    面会（訪問）                      3.その他   \n",
      "9487   2023/03/23  17:00～18:00    面会（来訪）             2.フォロー訪問（計画訪問）   \n",
      "9488   2023/03/22  14:30～15:30    面会（訪問）             2.フォロー訪問（計画訪問）   \n",
      "\n",
      "     destination    product                                         customer  \\\n",
      "0         ２．ユーザー  ４．ＴＥＣＣＥＬＬ  株式会社クボタ 菊池 俊介\\r\\n株式会社落合 樋口 智一\\r\\n株式会社カツマタ 若月 正彦   \n",
      "1          １．代理店     ５．情報交換                                   有限会社本宮商店 新行内 聡   \n",
      "2          １．代理店     ５．情報交換                                     株式会社落合 滝田 克久   \n",
      "3          １．代理店     ５．情報交換                                   昭和興産株式会社 渡邉 壮太   \n",
      "4          １．代理店     ５．情報交換                                 株式会社アリスミ21 田中 光弘   \n",
      "...          ...        ...                                              ...   \n",
      "9484      ２．ユーザー      ６．その他                                   株式会社浅井農園 澁谷 九輝   \n",
      "9485      ２．ユーザー     ３．パレット                                   川西工業株式会社 川本 裕明   \n",
      "9486       １．代理店     ５．情報交換                                  もりや産業株式会社 増山 淳也   \n",
      "9487       １．代理店     ５．情報交換                                  甲賀高分子株式会社 石田 克成   \n",
      "9488       １．代理店     ３．パレット               株式会社キラックス 前田 尚人\\r\\n株式会社キラックス 田中 政彦   \n",
      "\n",
      "                           customer_dept     customor_pos salesperson_visited  \\\n",
      "0                     市川工場\\r\\n東関東営業所\\r\\n     製造課長\\r\\n\\r\\n                林 瑛斗   \n",
      "1                                                    営業部長                林 瑛斗   \n",
      "2                               管理本部 企画室               室長        坂 元文\\r\\n林 瑛斗   \n",
      "3                                 化学品第二部                                 林 瑛斗   \n",
      "4                                    営業部                                 林 瑛斗   \n",
      "...                                  ...              ...                 ...   \n",
      "9484                             R&Dユニット           博士(工学)               後藤 悠介   \n",
      "9485                                              代表取締役社長               後藤 悠介   \n",
      "9486                営業本部 営業第二部 統括 兼 大阪支店  支店長 兼 名古屋営業所 所長               後藤 悠介   \n",
      "9487                                       専務取締役 東京支店 支店長               後藤 悠介   \n",
      "9488  ロジスティックスサポート事業部\\r\\nロジスティックスサポート事業部       課長\\r\\n事業部長               後藤 悠介   \n",
      "\n",
      "                                        contact_details  \\\n",
      "0     【タイトル】菊池 俊介様と面会\\r\\n【場所】クボタ市川工場\\r\\n前回の現地調査でのdB測...   \n",
      "1     【タイトル】新行内 聡様と面会\\r\\n【場所】有限会社本宮商店\\r\\n10月にカタログ6部送...   \n",
      "2     【タイトル】滝田 克久様と面会\\r\\n【場所】自社\\r\\nテクセルセイントについての相談2点...   \n",
      "3     【タイトル】下請法について確認\\r\\n【場所】電話\\r\\n名古屋にて、印刷名が入っている製品...   \n",
      "4     【タイトル】川崎国際環境展の搬入と、展示製品説明\\r\\n【場所】カレッツ川崎\\r\\n川崎国際...   \n",
      "...                                                 ...   \n",
      "9484  【タイトル】浅井農園フォロー\\r\\n#ヒント\\r\\n\\r\\n・訪問経緯：両社長の懇談の際に「...   \n",
      "9485  【タイトル】川西工業　6月稼働新物流ｾﾝﾀｰ対応\\r\\n【場所】川西工業　本社、物流ｾﾝﾀｰ...   \n",
      "9486  【タイトル】引き継ぎ訪問\\r\\n【場所】もりや産業　名古屋支店\\r\\n野村⇒竹中引継ぎ訪問に...   \n",
      "9487  【タイトル】甲賀高分子（石田専務）来社\\r\\n【場所】岐阜プラ　名古屋支店\\r\\n本年5月1...   \n",
      "9488  【タイトル】キラックス　新センター対応\\r\\n【場所】キラックス本社\\r\\n・新センターパレ...   \n",
      "\n",
      "     salesperson_registered customer_company customer_name branch  \n",
      "0                      林 瑛斗          株式会社クボタ         菊池 俊介   東京支店  \n",
      "1                      林 瑛斗         有限会社本宮商店         新行内 聡   東京支店  \n",
      "2                      林 瑛斗           株式会社落合         滝田 克久   東京支店  \n",
      "3                      林 瑛斗         昭和興産株式会社         渡邉 壮太   東京支店  \n",
      "4                      林 瑛斗       株式会社アリスミ21         田中 光弘   東京支店  \n",
      "...                     ...              ...           ...    ...  \n",
      "9484                  後藤 悠介         株式会社浅井農園         澁谷 九輝  名古屋支店  \n",
      "9485                  後藤 悠介         川西工業株式会社         川本 裕明  名古屋支店  \n",
      "9486                  後藤 悠介        もりや産業株式会社         増山 淳也  名古屋支店  \n",
      "9487                  後藤 悠介        甲賀高分子株式会社         石田 克成  名古屋支店  \n",
      "9488                  後藤 悠介        株式会社キラックス         前田 尚人  名古屋支店  \n",
      "\n",
      "[9489 rows x 16 columns]\n"
     ]
    }
   ],
   "source": [
    "csv_file = r\"data\\contactlist_ 20230321_20231126_utf8.csv\"\n",
    "contact_df = pd.read_csv(csv_file)\n",
    "contact_df = contact_df.drop(['社外出席者 [部署 役職]'], axis=1)\n",
    "column_mappings = {\n",
    "    'コンタクト日': 'contact_date',\n",
    "    '時間': 'contact_time',\n",
    "    '区分': 'catergory',\n",
    "    '重要フラグ': 'importance',\n",
    "    '訪問目的': 'purpose',\n",
    "    '訪問先': 'destination',\n",
    "    '商談アイテム': 'product',\n",
    "    '社外出席者': 'customer',\n",
    "    '部署': 'customer_dept',\n",
    "    '役職': 'customor_pos',\n",
    "    '社内出席者': 'salesperson_visited',\n",
    "    'メモ': 'contact_details',\n",
    "    '登録者': 'salesperson_registered',\n",
    "}\n",
    "req_columns = list(column_mappings.keys())\n",
    "fltr_contact_df = contact_df[req_columns]\n",
    "\n",
    "fltr_contact_df.rename(columns=column_mappings, inplace=True)\n",
    "\n",
    "fltr_contact_df['importance'] = fltr_contact_df['importance'].fillna('')\n",
    "\n",
    "# 最初のスペースまでの文字列を抽出\n",
    "fltr_contact_df['customer_company'] = fltr_contact_df['customer'].str.split().str[0]\n",
    "\n",
    "# 2つ目のスペースまでの文字列を抽出\n",
    "fltr_contact_df['customer_name'] = fltr_contact_df['customer'].apply(lambda x: ' '.join(x.split()[1:3]))\n",
    "\n",
    "\n",
    "# ユーザを名前で結合\n",
    "user_brn_df = fltr_user_df[list(['name', 'branch'])]\n",
    "merged_df = fltr_contact_df.merge(user_brn_df, left_on='salesperson_registered', right_on='name' , how='inner').drop(columns=['name'])\n",
    "merged_df = merged_df.fillna('')\n",
    "\n",
    "print(merged_df)"
   ]
  },
  {
   "cell_type": "code",
   "execution_count": 12,
   "metadata": {},
   "outputs": [
    {
     "data": {
      "text/plain": [
       "57"
      ]
     },
     "execution_count": 12,
     "metadata": {},
     "output_type": "execute_result"
    }
   ],
   "source": [
    "# SQL Serverへの接続設定\n",
    "server = 'GPKMSQ14'\n",
    "database = 'datamart'\n",
    "username = 'gpkadmin'\n",
    "password = '19vK8xEQ'\n",
    "connection_string = f'mssql+pyodbc://{username}:{password}@{server}/{database}?driver=ODBC+Driver+17+for+SQL+Server'\n",
    "\n",
    "# SQLAlchemyエンジンを作成\n",
    "engine = create_engine(connection_string)\n",
    "\n",
    "# SQL Serverにデータをインポート\n",
    "# 1万件で13分かかる\n",
    "merged_df.to_sql('sansan_contact', con=engine, if_exists='append', index=False)"
   ]
  }
 ],
 "metadata": {
  "kernelspec": {
   "display_name": "Python 3",
   "language": "python",
   "name": "python3"
  },
  "language_info": {
   "codemirror_mode": {
    "name": "ipython",
    "version": 3
   },
   "file_extension": ".py",
   "mimetype": "text/x-python",
   "name": "python",
   "nbconvert_exporter": "python",
   "pygments_lexer": "ipython3",
   "version": "3.10.7"
  }
 },
 "nbformat": 4,
 "nbformat_minor": 2
}
